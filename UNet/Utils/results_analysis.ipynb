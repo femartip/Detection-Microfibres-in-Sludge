{
 "cells": [
  {
   "cell_type": "markdown",
   "metadata": {},
   "source": [
    "# Glass Dataset"
   ]
  },
  {
   "cell_type": "code",
   "execution_count": 21,
   "metadata": {},
   "outputs": [],
   "source": [
    "import ast\n",
    "import pandas as pd"
   ]
  },
  {
   "cell_type": "code",
   "execution_count": 22,
   "metadata": {},
   "outputs": [
    {
     "name": "stdout",
     "output_type": "stream",
     "text": [
      "   train_loss  train_accuracy  train_mAP  train_mAP_five  train_mAP_sevenfive  \\\n",
      "1    1.139375        0.982849   0.014273        0.005908             0.005067   \n",
      "2    1.016744        0.999220   0.267970        0.255789             0.075175   \n",
      "3    0.996878        0.998389   2.813005        1.806124             1.604352   \n",
      "4    0.940868        0.997028   6.780819        4.870154             4.775741   \n",
      "5    0.884013        0.997716   6.213497        5.000609             4.862567   \n",
      "\n",
      "    val_mAP  val_mAP_five  val_mAP_sevenfive  val_accuracy  val_loss  \n",
      "1  0.000000      0.000000           0.000000      0.999282  1.705440  \n",
      "2  0.000000      0.000000           0.000000      0.999282  1.698687  \n",
      "3  0.185756      0.175317           0.107606      0.999280  1.694984  \n",
      "4  0.409284      0.285750           0.251152      0.975209  1.670674  \n",
      "5  1.244518      0.074137           0.078174      0.130158  2.161348  \n"
     ]
    }
   ],
   "source": [
    "glass_results_txt = open(\"../results/Glass_dataset/final_results.txt\", \"r\")\n",
    "\n",
    "glass_results = glass_results_txt.read()\n",
    "\n",
    "glass_results_txt.close()\n",
    "\n",
    "glass_results_dict = ast.literal_eval(glass_results)\n",
    "\n",
    "glass_results_df_0 = pd.DataFrame.from_dict(glass_results_dict[\"0\"], orient='index')\n",
    "glass_results_df_1 = pd.DataFrame.from_dict(glass_results_dict[\"1\"], orient='index')\n",
    "glass_results_df_2 = pd.DataFrame.from_dict(glass_results_dict[\"2\"], orient='index')\n",
    "glass_results_df_3 = pd.DataFrame.from_dict(glass_results_dict[\"3\"], orient='index')\n",
    "glass_results_df_4 = pd.DataFrame.from_dict(glass_results_dict[\"4\"], orient='index')\n",
    "\n",
    "print(glass_results_df_0.head())\n"
   ]
  },
  {
   "cell_type": "code",
   "execution_count": 23,
   "metadata": {},
   "outputs": [
    {
     "name": "stdout",
     "output_type": "stream",
     "text": [
      "    train_loss  train_accuracy  train_mAP  train_mAP_five  \\\n",
      "18    0.769778        0.998457  11.826757       10.046124   \n",
      "26    0.731557        0.998523  14.211473       12.159219   \n",
      "31    0.660367        0.998819  19.799866       17.910751   \n",
      "17    0.746528        0.998585  12.684994       10.928016   \n",
      "22    0.728956        0.998597  15.972966       13.619707   \n",
      "\n",
      "    train_mAP_sevenfive    val_mAP  val_mAP_five  val_mAP_sevenfive  \\\n",
      "18             9.900473   9.155240      8.245049           7.633150   \n",
      "26            11.933065  11.524702     10.395282           9.753608   \n",
      "31            17.650471  12.393292     11.306813          10.974195   \n",
      "17            10.608598   6.695180      6.089642           4.837293   \n",
      "22            13.493025  10.787169      9.380373           8.912360   \n",
      "\n",
      "    val_accuracy  val_loss  \n",
      "18      0.998745  1.481866  \n",
      "26      0.998671  1.438764  \n",
      "31      0.998938  1.422043  \n",
      "17      0.999105  1.560641  \n",
      "22      0.998880  1.440031  \n"
     ]
    }
   ],
   "source": [
    "glass_results_df_all = pd.concat([glass_results_df_0.iloc[[-1]], glass_results_df_1.iloc[[-1]], glass_results_df_2.iloc[[-1]], glass_results_df_3.iloc[[-1]], glass_results_df_4.iloc[[-1]]])\n",
    "\n",
    "print(glass_results_df_all.head())"
   ]
  },
  {
   "cell_type": "code",
   "execution_count": 25,
   "metadata": {},
   "outputs": [
    {
     "name": "stdout",
     "output_type": "stream",
     "text": [
      "Mean of all results: train_loss              0.727437\n",
      "train_accuracy          0.998596\n",
      "train_mAP              14.899211\n",
      "train_mAP_five         12.932763\n",
      "train_mAP_sevenfive    12.717126\n",
      "val_mAP                10.111117\n",
      "val_mAP_five            9.083432\n",
      "val_mAP_sevenfive       8.422121\n",
      "val_accuracy            0.998868\n",
      "val_loss                1.468669\n",
      "dtype: float64\n",
      "Standard deviation of all results: train_loss             0.040850\n",
      "train_accuracy         0.000136\n",
      "train_mAP              3.161688\n",
      "train_mAP_five         3.090401\n",
      "train_mAP_sevenfive    3.079533\n",
      "val_mAP                2.249773\n",
      "val_mAP_five           2.025970\n",
      "val_mAP_sevenfive      2.345194\n",
      "val_accuracy           0.000169\n",
      "val_loss               0.055950\n",
      "dtype: float64\n"
     ]
    }
   ],
   "source": [
    "glass_results_df_all_mean = glass_results_df_all.mean()\n",
    "glass_results_df_all_std = glass_results_df_all.std()\n",
    "\n",
    "print(f\"Mean of all results: {glass_results_df_all_mean}\")\n",
    "print(f\"Standard deviation of all results: {glass_results_df_all_std}\")"
   ]
  },
  {
   "cell_type": "markdown",
   "metadata": {},
   "source": [
    "# CA Dataset"
   ]
  }
 ],
 "metadata": {
  "kernelspec": {
   "display_name": "detectron",
   "language": "python",
   "name": "python3"
  },
  "language_info": {
   "codemirror_mode": {
    "name": "ipython",
    "version": 3
   },
   "file_extension": ".py",
   "mimetype": "text/x-python",
   "name": "python",
   "nbconvert_exporter": "python",
   "pygments_lexer": "ipython3",
   "version": "3.7.12"
  }
 },
 "nbformat": 4,
 "nbformat_minor": 2
}
