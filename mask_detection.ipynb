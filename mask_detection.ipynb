{
 "cells": [
  {
   "cell_type": "code",
   "execution_count": null,
   "metadata": {},
   "outputs": [],
   "source": [
    "import os\n",
    "\n",
    "masks = []\n",
    "\n",
    "for file in os.listdir('masks_001_512'):\n",
    "    if file.endswith('.jpg'):\n",
    "        masks.append(file)\n",
    "\n",
    "print(len(masks))"
   ]
  }
 ],
 "metadata": {
  "kernelspec": {
   "display_name": "pytorch",
   "language": "python",
   "name": "python3"
  },
  "language_info": {
   "name": "python",
   "version": "3.8.16"
  }
 },
 "nbformat": 4,
 "nbformat_minor": 2
}
